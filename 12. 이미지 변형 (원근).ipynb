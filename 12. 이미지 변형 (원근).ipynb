{
 "cells": [
  {
   "cell_type": "markdown",
   "id": "11fcd960",
   "metadata": {},
   "source": [
    "# 12. 이미지 변형 (원근)"
   ]
  },
  {
   "cell_type": "markdown",
   "id": "5099d458",
   "metadata": {},
   "source": [
    "## 사다리꼴 이미지 펼치기"
   ]
  },
  {
   "cell_type": "code",
   "execution_count": 3,
   "id": "52c3b52b",
   "metadata": {},
   "outputs": [],
   "source": [
    "import cv2\n",
    "import numpy as np\n",
    "\n",
    "img = cv2.imread('newspaper.jpg')\n",
    "\n",
    "width, height = 640, 240\n",
    "\n",
    "src = np.array( [ [511, 352], [1008, 345], [1122, 584], [455, 594] ], dtype = np.float32 ) # input 4개 지점\n",
    "dst = np.array([ [0, 0], [width, 0], [width, height], [0, height] ], dtype = np.float32)\n",
    "# 좌상, 우상, 우하, 좌하 (시계 방향으로 네개의 점 정의)\n",
    "\n",
    "matrix = cv2.getPerspectiveTransform(src, dst) # transformation matix 불러옴\n",
    "result = cv2.warpPerspective(img, matrix, (width, height)) # matrix 로 변환을 함\n",
    "\n",
    "cv2.imshow('img', img)\n",
    "cv2.imshow('result', result)\n",
    "\n",
    "cv2.waitKey(0)\n",
    "cv2.destroyAllWindows()"
   ]
  },
  {
   "cell_type": "markdown",
   "id": "de095194",
   "metadata": {},
   "source": [
    "## 회전된 이미지 올바로 세우기"
   ]
  },
  {
   "cell_type": "code",
   "execution_count": 5,
   "id": "12a6c29a",
   "metadata": {},
   "outputs": [],
   "source": [
    "import cv2\n",
    "import numpy as np\n",
    "\n",
    "img = cv2.imread('poker.jpg')\n",
    "\n",
    "width, height = 530, 710\n",
    "\n",
    "src = np.array( [ [699, 151], [1133, 411], [729, 1002], [275, 699] ], dtype = np.float32 ) # input 4개 지점\n",
    "dst = np.array([ [0, 0], [width, 0], [width, height], [0, height] ], dtype = np.float32)\n",
    "# 좌상, 우상, 우하, 좌하 (시계 방향으로 네개의 점 정의)\n",
    "\n",
    "matrix = cv2.getPerspectiveTransform(src, dst) # transformation matix 불러옴\n",
    "result = cv2.warpPerspective(img, matrix, (width, height)) # matrix 로 변환을 함\n",
    "\n",
    "cv2.imshow('img', img)\n",
    "cv2.imshow('result', result)\n",
    "\n",
    "cv2.waitKey(0)\n",
    "cv2.destroyAllWindows()"
   ]
  },
  {
   "cell_type": "markdown",
   "id": "a30cb976",
   "metadata": {},
   "source": [
    " ## 미니 프로젝트 : 반자동 문서 스캐너"
   ]
  },
  {
   "cell_type": "markdown",
   "id": "706b31e8",
   "metadata": {},
   "source": [
    "### 마우스 이벤트 등록"
   ]
  },
  {
   "cell_type": "code",
   "execution_count": 11,
   "id": "c6c3c277",
   "metadata": {},
   "outputs": [],
   "source": [
    "import cv2\n",
    "\n",
    "def mouse_handler(event, x, y, flags, param):\n",
    "    if event == cv2.EVENT_LBUTTONDOWN: # 마우스 왼쪽 버튼 Down\n",
    "        print(\"왼쪽 버튼 Down\")\n",
    "        print(x, y)\n",
    "    elif event == cv2.EVENT_LBUTTONUP: # 마우스 왼쪽 버튼 Up\n",
    "        print(\"왼쪽 버튼 Up\")\n",
    "        print(x,y)\n",
    "    \n",
    "    elif event == cv2.EVENT_LBUTTONDBLCLK: # 더블클릭\n",
    "        print(\"왼쪽 버튼 더블클릭\")\n",
    "    \n",
    "#     elif event == cv2.EVENT_MOUSEMOVE: # 마우스 움직임\n",
    "#         print(\"마우스 이동\")\n",
    "    \n",
    "    elif event == cv2.EVENT_RBUTTONDOWN:\n",
    "        print(\"오른쪽 버튼 Down\")\n",
    "        \n",
    "        \n",
    "img = cv2.imread('poker.jpg')\n",
    "cv2.namedWindow('img') # 이미지라는 이름의 윈도우를 먼저 만들어두는 것. 여기에 마우스 이벤트를 처리하기 위한 핸들러 적용\n",
    "cv2.setMouseCallback('img', mouse_handler)\n",
    "cv2.imshow('img', img)\n",
    "cv2.waitKey(0)\n",
    "cv2.destroyAllWindows()"
   ]
  },
  {
   "cell_type": "markdown",
   "id": "41a08f30",
   "metadata": {},
   "source": [
    "### 프로젝트"
   ]
  },
  {
   "cell_type": "code",
   "execution_count": 16,
   "id": "4dea4091",
   "metadata": {},
   "outputs": [],
   "source": [
    "import cv2\n",
    "import numpy as np\n",
    "\n",
    "point_list = []\n",
    "src_img = cv2.imread('poker.jpg')\n",
    "\n",
    "COLOR = (255, 0, 255)\n",
    "THICKNESS = 3\n",
    "drawing = False # 선을 그릴지 여부\n",
    "\n",
    "def mouse_handler(event, x, y, flags, param):\n",
    "    global drawing\n",
    "    \n",
    "    if event == cv2.EVENT_LBUTTONDOWN: # 마우스 왼쪽 버튼 Down\n",
    "        drawing = True # 선을 그리기 시작\n",
    "        point_list.append((x,y))\n",
    "        \n",
    "    if drawing:\n",
    "        prev_point = None # 직선의 시작점\n",
    "        for point in point_list:\n",
    "            cv2.circle(src_img, point, 10, COLOR, cv2.FILLED)\n",
    "            if prev_point:\n",
    "                cv2.line(src_img, prev_point, point, COLOR, THICKNESS, cv2.LINE_AA)\n",
    "            prev_point = point\n",
    "            \n",
    "    \n",
    "    if len(point_list) == 4:\n",
    "        show_result() # 결과 출력\n",
    "        \n",
    "    cv2.imshow('img', src_img)\n",
    "\n",
    "def show_result():\n",
    "    width, height = 530, 710\n",
    "\n",
    "    src = np.float32(point_list)\n",
    "    dst = np.array([ [0, 0], [width, 0], [width, height], [0, height] ], dtype = np.float32)\n",
    "    # 좌상, 우상, 우하, 좌하 (시계 방향으로 네개의 점 정의)\n",
    "\n",
    "    matrix = cv2.getPerspectiveTransform(src, dst) # transformation matix 불러옴\n",
    "    result = cv2.warpPerspective(src_img, matrix, (width, height)) # matrix 로 변환을 함\n",
    "    \n",
    "    cv2.imshow('result', result)\n",
    "\n",
    "\n",
    "cv2.namedWindow('img')\n",
    "cv2.setMouseCallback('img', mouse_handler)\n",
    "cv2.imshow('img', src_img)\n",
    "cv2.waitKey(0)\n",
    "cv2.destroyAllWindows()\n"
   ]
  },
  {
   "cell_type": "code",
   "execution_count": 22,
   "id": "b47205f8",
   "metadata": {},
   "outputs": [],
   "source": [
    "import cv2\n",
    "import numpy as np\n",
    "\n",
    "point_list = []\n",
    "src_img = cv2.imread('poker.jpg')\n",
    "\n",
    "COLOR = (0, 255, 0)\n",
    "THICKNESS = 3\n",
    "drawing = False # 선을 그릴지 여부\n",
    "\n",
    "def mouse_handler(event, x, y, flags, param):\n",
    "    global drawing\n",
    "    dst_img = src_img.copy()\n",
    "    \n",
    "    if event == cv2.EVENT_LBUTTONDOWN: # 마우스 왼쪽 버튼 Down\n",
    "        drawing = True # 선을 그리기 시작\n",
    "        point_list.append((x,y))\n",
    "        \n",
    "    if drawing:\n",
    "        prev_point = None # 직선의 시작점\n",
    "        for point in point_list:\n",
    "            cv2.circle(dst_img, point, 5, COLOR, cv2.FILLED)\n",
    "            if prev_point:\n",
    "                cv2.line(dst_img, prev_point, point, COLOR, THICKNESS, cv2.LINE_AA)\n",
    "            prev_point = point\n",
    "            \n",
    "        next_point = (x, y)\n",
    "        if len(point_list) == 4:\n",
    "            show_result() # 결과 출력\n",
    "            next_point = point_list[0]\n",
    "        cv2.line(dst_img, prev_point, next_point, COLOR, THICKNESS, cv2.LINE_AA)\n",
    "\n",
    "        \n",
    "    cv2.imshow('img', dst_img)\n",
    "\n",
    "def show_result():\n",
    "    width, height = 530, 710\n",
    "\n",
    "    src = np.float32(point_list)\n",
    "    dst = np.array([ [0, 0], [width, 0], [width, height], [0, height] ], dtype = np.float32)\n",
    "    # 좌상, 우상, 우하, 좌하 (시계 방향으로 네개의 점 정의)\n",
    "\n",
    "    matrix = cv2.getPerspectiveTransform(src, dst) # transformation matix 불러옴\n",
    "    result = cv2.warpPerspective(src_img, matrix, (width, height)) # matrix 로 변환을 함\n",
    "    \n",
    "    cv2.imshow('result', result)\n",
    "\n",
    "\n",
    "cv2.namedWindow('img')\n",
    "cv2.setMouseCallback('img', mouse_handler)\n",
    "cv2.imshow('img', src_img)\n",
    "cv2.waitKey(0)\n",
    "cv2.destroyAllWindows()"
   ]
  }
 ],
 "metadata": {
  "kernelspec": {
   "display_name": "Python 3 (ipykernel)",
   "language": "python",
   "name": "python3"
  },
  "language_info": {
   "codemirror_mode": {
    "name": "ipython",
    "version": 3
   },
   "file_extension": ".py",
   "mimetype": "text/x-python",
   "name": "python",
   "nbconvert_exporter": "python",
   "pygments_lexer": "ipython3",
   "version": "3.9.7"
  }
 },
 "nbformat": 4,
 "nbformat_minor": 5
}
