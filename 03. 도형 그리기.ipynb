{
 "cells": [
  {
   "cell_type": "markdown",
   "id": "1dfbfe53",
   "metadata": {},
   "source": [
    "# 3. 도형 그리기"
   ]
  },
  {
   "cell_type": "markdown",
   "id": "3e34771c",
   "metadata": {},
   "source": [
    "## 빈 스케치북 만들기"
   ]
  },
  {
   "cell_type": "code",
   "execution_count": 9,
   "id": "05b29f00",
   "metadata": {},
   "outputs": [],
   "source": [
    "import cv2\n",
    "import numpy as np\n",
    "\n",
    "# 세로 480 X 가로 640, 3Channel (RGB)에 해당하는 스케치북 만들기\n",
    "img = np.zeros((480, 640, 3), dtype = np.uint8)\n",
    "# img[:] = (0, 0, 255) # 전체 공간을 빨간색으로 채우기 - openCV에선 B, G, R의 순서로 입력해야한다.\n",
    "\n",
    "cv2.imshow('img', img)\n",
    "cv2.waitKey(0)\n",
    "cv2.destroyAllWindows()"
   ]
  },
  {
   "cell_type": "markdown",
   "id": "23024888",
   "metadata": {},
   "source": [
    "## 일부 영역 색칠"
   ]
  },
  {
   "cell_type": "code",
   "execution_count": 11,
   "id": "52db9ec4",
   "metadata": {},
   "outputs": [],
   "source": [
    "import cv2\n",
    "import numpy as np\n",
    "\n",
    "img = np.zeros((480, 640, 3), dtype = np.uint8)\n",
    "img[100:200, 200:300] = (255, 255, 255)\n",
    "# 세로영역, 가로영역\n",
    "\n",
    "cv2.imshow('img', img)\n",
    "cv2.waitKey(0)\n",
    "cv2.destroyAllWindows()"
   ]
  },
  {
   "cell_type": "markdown",
   "id": "12a87fcc",
   "metadata": {},
   "source": [
    "## 직선\n",
    "직선의 종류 (line type)\n",
    "\n",
    "1. cv2.LINE_4 : 상하좌우 4 방향으로 연결된 선\n",
    "1. cv2.LINE_8 : 대각선을 포함한 8 방향으로 연결된 선 (기본값)\n",
    "1. cv2.LINE_AA : 부드러운 선 (anti-aliasing)"
   ]
  },
  {
   "cell_type": "code",
   "execution_count": 19,
   "id": "c8458d86",
   "metadata": {},
   "outputs": [],
   "source": [
    "import cv2\n",
    "import numpy as np\n",
    "\n",
    "img = np.zeros((480, 640, 3), dtype = np.uint8)\n",
    "\n",
    "COLOR = (0, 255, 255) # Yellow\n",
    "THICKNESS = 3 # 두께\n",
    "\n",
    "cv2.line(img, (50,100), (400, 50), COLOR, THICKNESS, cv2.LINE_8)\n",
    "# 그릴 위치, 시작 점, 끝 점, 색깔, 두께, 선 종류\n",
    "cv2.line(img, (50,200), (400, 150), COLOR, THICKNESS, cv2.LINE_4)\n",
    "cv2.line(img, (50,300), (400, 250), COLOR, THICKNESS, cv2.LINE_AA)\n",
    "\n",
    "cv2.imshow('img', img)\n",
    "cv2.waitKey(0)\n",
    "cv2.destroyAllWindows()"
   ]
  },
  {
   "cell_type": "markdown",
   "id": "4ff690f5",
   "metadata": {},
   "source": [
    "## 원"
   ]
  },
  {
   "cell_type": "code",
   "execution_count": null,
   "id": "f8e2a2e8",
   "metadata": {},
   "outputs": [],
   "source": [
    "import cv2\n",
    "import numpy as np\n",
    "\n",
    "img = np.zeros((480, 640, 3), dtype = np.uint8)\n",
    "\n",
    "COLOR = (255, 255, 0) # 푸른 형광색\n",
    "RADIUS = 50\n",
    "THICKNESS = 10 # 두께\n",
    "\n",
    "cv2.circle(img, (200, 100), RADIUS, COLOR, THICKNESS, cv2.LINE_AA) # 속이 빈 원\n",
    "# 그릴 위치, 원의 중심점, 반지름, 색깔, 두께, 선 종류\n",
    "cv2.circle(img, (400, 100), RADIUS, COLOR, cv2.FILLED, cv2.LINE_AA) # 속이 찬 원\n",
    "\n",
    "\n",
    "cv2.imshow('img', img)\n",
    "cv2.waitKey(0)\n",
    "cv2.destroyAllWindows()"
   ]
  },
  {
   "cell_type": "markdown",
   "id": "1f3b9ad5",
   "metadata": {},
   "source": [
    "## 사각형"
   ]
  },
  {
   "cell_type": "code",
   "execution_count": 27,
   "id": "98e9f443",
   "metadata": {},
   "outputs": [],
   "source": [
    "import cv2\n",
    "import numpy as np\n",
    "\n",
    "img = np.zeros((480, 640, 3), dtype = np.uint8)\n",
    "\n",
    "COLOR = (0, 255, 0) # 초록\n",
    "THICKNESS = 3 # 두께\n",
    "\n",
    "cv2.rectangle(img, (100, 100), (200, 200), COLOR, THICKNESS) # 속이 빈 사각형\n",
    "# 그릴 위치, 왼쪽 위 좌표, 오른쪽 아래 좌표, 색깔, 두께\n",
    "cv2.rectangle(img, (300, 100), (400, 300), COLOR, cv2.FILLED) # 속이 찬 사각형\n",
    "\n",
    "cv2.imshow('img', img)\n",
    "cv2.waitKey(0)\n",
    "cv2.destroyAllWindows()"
   ]
  },
  {
   "cell_type": "markdown",
   "id": "38de0dc4",
   "metadata": {},
   "source": [
    "## 다각형"
   ]
  },
  {
   "cell_type": "code",
   "execution_count": 34,
   "id": "d16e3c47",
   "metadata": {},
   "outputs": [],
   "source": [
    "import cv2\n",
    "import numpy as np\n",
    "\n",
    "img = np.zeros((480, 640, 3), dtype = np.uint8)\n",
    "\n",
    "COLOR = (0, 0, 255) # 빨강\n",
    "THICKNESS = 3 # 두께\n",
    "\n",
    "pts1 = np.array([ [ 100, 100 ], [ 200, 100 ], [ 100, 200 ] ])\n",
    "pts2 = np.array([ [ 200, 100 ], [ 300, 100 ], [ 300, 200 ] ])\n",
    "\n",
    "\n",
    "# cv2.polylines(img, [pts1], True, COLOR, THICKNESS, cv2.LINE_AA) # True : 시작점과 끝 점을 연결여부\n",
    "# cv2.polylines(img, [pts2], True, COLOR, THICKNESS, cv2.LINE_AA)\n",
    "\n",
    "cv2.polylines(img, [pts1, pts2], True, COLOR, THICKNESS, cv2.LINE_AA) # 속이 빈 다각형\n",
    "# 그릴 위치, 그릴 좌표들, 닫힘 여부, 색깔, 두께, 선 종류\n",
    "\n",
    "pts3 = np.array([ [ [100, 300], [200, 300], [100, 400] ], [ [200, 300], [300, 300], [300, 400] ] ])\n",
    "cv2.fillPoly(img, pts3, COLOR, cv2.LINE_AA) # 속이 찬 다각형\n",
    "# 그릴 위치, 그릴 좌표들, 색깔, 선 종류\n",
    "\n",
    "cv2.imshow('img', img)\n",
    "cv2.waitKey(0)\n",
    "cv2.destroyAllWindows()"
   ]
  }
 ],
 "metadata": {
  "kernelspec": {
   "display_name": "Python 3 (ipykernel)",
   "language": "python",
   "name": "python3"
  },
  "language_info": {
   "codemirror_mode": {
    "name": "ipython",
    "version": 3
   },
   "file_extension": ".py",
   "mimetype": "text/x-python",
   "name": "python",
   "nbconvert_exporter": "python",
   "pygments_lexer": "ipython3",
   "version": "3.9.7"
  }
 },
 "nbformat": 4,
 "nbformat_minor": 5
}
